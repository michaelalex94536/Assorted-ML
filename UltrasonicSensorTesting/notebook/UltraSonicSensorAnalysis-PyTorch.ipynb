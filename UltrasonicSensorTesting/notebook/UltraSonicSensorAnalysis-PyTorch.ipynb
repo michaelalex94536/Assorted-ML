{
 "cells": [
  {
   "cell_type": "markdown",
   "metadata": {},
   "source": [
    "###  UltraSonicSensorAnalysis Jupyter notebook - PyTorch version\n",
    "\n",
    "\n",
    "#### Our goal is to predict the reflected (Echo) signal using other, more readily available, transducer parameters. \n",
    "#### We will use Frequency, Ring-down, and Excitation voltage to predict Echo signal amplitude. "
   ]
  },
  {
   "cell_type": "code",
   "execution_count": 1,
   "metadata": {
    "scrolled": false
   },
   "outputs": [],
   "source": [
    "#%matplotlib inline\n",
    "\n",
    "import pandas as pd\n",
    "import numpy as np\n",
    "import matplotlib.pyplot as plt\n",
    "\n",
    "from sklearn.model_selection import train_test_split\n",
    "from sklearn.preprocessing import MinMaxScaler\n",
    "from sklearn.metrics import mean_squared_error,mean_absolute_error,explained_variance_score\n",
    "from sklearn.metrics import r2_score\n",
    "from sklearn.linear_model import LinearRegression\n",
    "from scipy.stats import pearsonr\n",
    "\n",
    "import torch\n",
    "import torch.nn as nn\n",
    "import torch.optim as optim\n",
    "\n",
    "import time\n",
    "from tqdm import tqdm"
   ]
  },
  {
   "cell_type": "markdown",
   "metadata": {},
   "source": [
    "### Read in the data and create the training and test data sets\n",
    "\n",
    "### Training and test data are selected randomly here, and could affect your results. "
   ]
  },
  {
   "cell_type": "code",
   "execution_count": 2,
   "metadata": {
    "scrolled": true
   },
   "outputs": [
    {
     "name": "stdout",
     "output_type": "stream",
     "text": [
      "Unique Die IDs found: 712\n",
      "Number of training Die IDs: 534\n",
      "Number of testing Die IDs: 178\n",
      "\n",
      "No crosstalk between training and testing Die IDs found.\n"
     ]
    }
   ],
   "source": [
    "# There are up to 10 measurements for each Die ID, and we need to keep these 10 measurements together so the \n",
    "# training and test sets have no cross-talk or \"contamination\".  In other words, 10 measurements for a given\n",
    "# Die ID will all be either training or test measurements. \n",
    "\n",
    "# Here is the strategy:\n",
    "# 1) Get all the unique Die IDs\n",
    "# 2) Split the Die IDs into train IDs and test IDs\n",
    "# 3) Create a test data frame from the test IDs and a train data frame from the train IDs\n",
    "\n",
    "# First, read in the data from the \"data\" subfolder:\n",
    "df = pd.read_csv('../data/test_data.csv')\n",
    "\n",
    "# Here are all the unique Die IDs\n",
    "die_ids = np.unique(df['Die ID'])\n",
    "print(\"Unique Die IDs found:\", len(die_ids))\n",
    "\n",
    "# Here is the training fraction\n",
    "train_frac = 0.75\n",
    "\n",
    "# Now create a random list of the Die IDs to be used for training\n",
    "train_ids = np.random.choice(die_ids, size=int(train_frac*len(die_ids)), replace=False)\n",
    "print(\"Number of training Die IDs:\", len(train_ids))\n",
    "\n",
    "# Now here are the Die IDs to be used for testing - just get what wasn't used for training\n",
    "test_ids = np.setdiff1d(die_ids, train_ids)\n",
    "print(\"Number of testing Die IDs:\", len(test_ids))\n",
    "print()\n",
    "\n",
    "# Confirm no training Die IDs are intermixed with testing Die IDs:\n",
    "if (np.intersect1d(train_ids, test_ids, assume_unique=False, return_indices=False).size > 0):\n",
    "    print(\"Testing and training Die IDs appear to be intermixed!!\")\n",
    "else:\n",
    "    print(\"No crosstalk between training and testing Die IDs found.\")\n",
    "\n",
    "    \n",
    "# Here, create the test and train data frames based on the Die IDs\n",
    "test_df = pd.DataFrame()\n",
    "train_df = pd.DataFrame()\n",
    "junk = pd.DataFrame()\n",
    "\n",
    "for tstid in test_ids:\n",
    "    junk = df[ df['Die ID'] == tstid  ]\n",
    "    #test_df = test_df.append(junk)\n",
    "    test_df = pd.concat([test_df, junk], axis=0)\n",
    "\n",
    "for trainid in train_ids:\n",
    "    junk = df[ df['Die ID'] == trainid  ]\n",
    "    #train_df = train_df.append(junk)\n",
    "    train_df = pd.concat([train_df, junk], axis=0)\n",
    "    \n",
    "#print(test_df.shape, train_df.shape)\n",
    "#print(\"Total number of rows:\", train_df.shape[0] + test_df.shape[0])\n",
    "\n",
    "\n",
    "# Split the train and test data into features (X) and labels (y):\n",
    "X_train = train_df[['Frequency', 'Ring-down','Excitation']]\n",
    "y_train = train_df['Echo']\n",
    "\n",
    "X_test = test_df[['Frequency', 'Ring-down','Excitation']]\n",
    "y_test = test_df['Echo']\n",
    "\n",
    "\n",
    "# Probably not too critical in this case, but scale the features - better safe than sorry!\n",
    "scaler = MinMaxScaler()\n",
    "\n",
    "X_train= scaler.fit_transform(X_train)\n",
    "X_test = scaler.transform(X_test)\n",
    "\n",
    "\n",
    "# Convert Pandas Series to np arrays\n",
    "y_train = y_train.to_numpy()\n",
    "y_test = y_test.to_numpy()\n",
    "\n",
    "# Finally, now convert all np array data to torch tensors\n",
    "X_train = torch.tensor(X_train, dtype=torch.float32)\n",
    "X_test = torch.tensor(X_test, dtype=torch.float32)\n",
    "y_train = torch.tensor(y_train, dtype=torch.float32).reshape(-1, 1)\n",
    "y_test = torch.tensor(y_test, dtype=torch.float32).reshape(-1, 1)"
   ]
  },
  {
   "cell_type": "markdown",
   "metadata": {},
   "source": [
    "###  Define a very simple PyTorch neural network model with relu activation\n",
    "#### Use same model topology, learning rate, batch size, epochs as was used for Keras notebook version"
   ]
  },
  {
   "cell_type": "code",
   "execution_count": 3,
   "metadata": {
    "scrolled": true
   },
   "outputs": [],
   "source": [
    "class simpleNN(nn.Module): \n",
    "    def __init__(self):\n",
    "        super().__init__()\n",
    "        self.hidden1 = nn.Linear(X_train.shape[1], 6)\n",
    "        self.act1 = nn.ReLU()\n",
    "        self.hidden2 = nn.Linear(6, 9)\n",
    "        self.act2 = nn.ReLU()\n",
    "        self.output = nn.Linear(9, 1, bias=True)\n",
    "    \n",
    "    def forward(self, x):\n",
    "        x = self.act1(self.hidden1(x))\n",
    "        x = self.act2(self.hidden2(x))\n",
    "        x = self.output(x)\n",
    "        return x"
   ]
  },
  {
   "cell_type": "markdown",
   "metadata": {},
   "source": [
    "### Here, train model with batches inside the epoch loop\n",
    "### Tabulate training and testing loss history"
   ]
  },
  {
   "cell_type": "code",
   "execution_count": 7,
   "metadata": {},
   "outputs": [
    {
     "name": "stderr",
     "output_type": "stream",
     "text": [
      "Progress: 100%|███████████████████████████████| 250/250 [00:12<00:00, 19.67it/s]\n"
     ]
    }
   ],
   "source": [
    "# Instantiate the model\n",
    "model = simpleNN()\n",
    "#print(model)  # Uncomment this line to see network topology\n",
    "\n",
    "loss_metric = nn.MSELoss() # Use MSE \n",
    "optimizer = optim.Adam(model.parameters(), lr=0.001)  # Same as was used for Keras version\n",
    "\n",
    "# Create empty lists to hold loss histories\n",
    "train_loss_hist = []\n",
    "test_loss_hist = []\n",
    "\n",
    "n_epochs = 250\n",
    "batch_size = 64\n",
    "for epoch in tqdm(range(n_epochs), desc='Progress'):\n",
    "    for i in range(0, len(X_train), batch_size):\n",
    "        X_train_batch = X_train[i:i+batch_size]\n",
    "        y_pred = model(X_train_batch)\n",
    "        y_train_batch = y_train[i:i+batch_size]\n",
    "        train_loss = loss_metric(y_pred, y_train_batch)\n",
    "        optimizer.zero_grad()\n",
    "        train_loss.backward()\n",
    "        optimizer.step()\n",
    "        \n",
    "    # After each epoch, get the test loss\n",
    "    with torch.no_grad():\n",
    "        predictions = model(X_test)\n",
    "        #train_loss = loss_metric(y_pred, y_train_batch)\n",
    "        train_loss_hist.append(train_loss.detach())\n",
    "        test_loss = loss_metric(predictions, y_test)\n",
    "        test_loss_hist.append(test_loss.detach())\n",
    "    \n",
    "    #if (epoch % 10) == 0:\n",
    "    #    print(f'Epoch: {epoch}, Loss: {train_loss}')"
   ]
  },
  {
   "cell_type": "markdown",
   "metadata": {},
   "source": [
    "### Using the test data set, test the model and see how it compares to the ground truth values\n",
    "\n",
    "### Plot predicted versus measured results"
   ]
  },
  {
   "cell_type": "code",
   "execution_count": null,
   "metadata": {},
   "outputs": [],
   "source": [
    "# Here are the predicted amplitudes of the test die\n",
    "predictions = model(X_test)\n",
    "\n",
    "# Calculate MSE\n",
    "mse = round(mean_squared_error(y_test.detach().numpy(), predictions.detach().numpy()) )\n",
    "\n",
    "fig = plt.figure(figsize=(6, 4))\n",
    "fig.add_subplot(111)\n",
    "\n",
    "# Scale the graph axes\n",
    "the_start = 3500\n",
    "the_end = 8500\n",
    "\n",
    "# Plot predicted versus measured amplitude:\n",
    "plt.plot(y_test.detach(), predictions.detach(), \"b.\")\n",
    "plt.title(f'MSE: {mse}')\n",
    "\n",
    "# Perfect prediction - a solid black line denotes the 1:1 regression\n",
    "plt.plot([the_start, the_end], [the_start, the_end],'k-', label=\"Ideal 1:1 regression\")\n",
    "plt.xlim(the_start, the_end)\n",
    "plt.ylim(the_start, the_end)\n",
    "ax = plt.gca()\n",
    "ax.set_facecolor('#feffcA')\n",
    "plt.grid()\n",
    "\n",
    "plt.xlabel('Measured echo intensity (LSBs)', fontsize=14)\n",
    "plt.ylabel('Predicted echo intensity (LSBs)', fontsize=14)\n",
    "\n",
    "plt.rc('xtick', labelsize=14) \n",
    "plt.rc('ytick', labelsize=14)\n",
    "\n",
    "\n",
    "lin_reg = LinearRegression()\n",
    "lin_reg.fit(np.array(y_test.detach()).reshape(-1, 1), predictions.detach())\n",
    "\n",
    "slope = np.round(lin_reg.coef_[0][0], 3)\n",
    "intercept = np.round(lin_reg.intercept_[0], 1)\n",
    "\n",
    "# Here are intercept and slope of predicted vs. actual amplitude values\n",
    "print(\"Slope:\", slope, \"   Offset:\",intercept)\n",
    "\n",
    "# Plot linear fit of the predicted amplitude versus measured:\n",
    "plt.plot([the_start, the_end],\n",
    "         [the_start*lin_reg.coef_[0][0] + lin_reg.intercept_[0] , \n",
    "          the_end*lin_reg.coef_[0][0] + lin_reg.intercept_[0] ], 'r--', label=\"Linear fit to data\")\n",
    "\n",
    "# Show the best linear fit slope and intercept:\n",
    "plt.text(the_start + 2000, the_start + 200, 'y = '+str(slope)+\"* X + \" + str(intercept), fontsize=12,color = (0, 0, 1));\n",
    "plt.legend(loc='upper left');\n"
   ]
  },
  {
   "cell_type": "markdown",
   "metadata": {},
   "source": [
    "### Show the losses versus the epoch number"
   ]
  },
  {
   "cell_type": "code",
   "execution_count": null,
   "metadata": {},
   "outputs": [],
   "source": [
    "save_fig = False\n",
    "\n",
    "fig = plt.figure(figsize=(6, 4))\n",
    "fig.add_subplot(111)\n",
    "\n",
    "# Plot the model loss over the training epochs\n",
    "\n",
    "plt.semilogy(np.array(train_loss_hist).reshape(-1,1), 'r.', label='Training')\n",
    "plt.semilogy(np.array(test_loss_hist).reshape(-1,1), 'b.', label='Testing')\n",
    "#plt.semilogy(losses['val_loss'], 'b-', label='Validation')\n",
    "plt.xlabel('Epochs', fontsize=14)\n",
    "plt.ylabel('Loss', fontsize=14)\n",
    "plt.title(f'MSE: {np.round(mse, 1)}')\n",
    "plt.rc('xtick', labelsize=14) \n",
    "plt.rc('ytick', labelsize=14)\n",
    "ax = plt.gca()\n",
    "\n",
    "ax.set_facecolor('#feffcA')\n",
    "plt.grid()\n",
    "plt.xlim(0, n_epochs)\n",
    "plt.legend();\n",
    "\n",
    "\n",
    "if save_fig:\n",
    "    fig = plt.gcf()\n",
    "    fig_name = \"Loss\"\n",
    "    fig.savefig(\"All_data\" + fig_name)"
   ]
  },
  {
   "cell_type": "code",
   "execution_count": null,
   "metadata": {},
   "outputs": [],
   "source": [
    "\n",
    "\n",
    "from tqdm import tqdm\n",
    "from time import sleep\n",
    " \n",
    " \n",
    "for i in tqdm(range(0, 100), desc =\"Text You Want\"):\n",
    "    sleep(.1)\n"
   ]
  },
  {
   "cell_type": "code",
   "execution_count": null,
   "metadata": {},
   "outputs": [],
   "source": [
    "len(X_train) // batch_size"
   ]
  },
  {
   "cell_type": "code",
   "execution_count": null,
   "metadata": {},
   "outputs": [],
   "source": []
  }
 ],
 "metadata": {
  "kernelspec": {
   "display_name": "Python 3 (ipykernel)",
   "language": "python",
   "name": "python3"
  },
  "language_info": {
   "codemirror_mode": {
    "name": "ipython",
    "version": 3
   },
   "file_extension": ".py",
   "mimetype": "text/x-python",
   "name": "python",
   "nbconvert_exporter": "python",
   "pygments_lexer": "ipython3",
   "version": "3.8.13"
  }
 },
 "nbformat": 4,
 "nbformat_minor": 4
}
